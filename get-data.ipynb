{
 "cells": [
  {
   "cell_type": "code",
   "execution_count": 50,
   "metadata": {},
   "outputs": [],
   "source": [
    "import fitz\n",
    "import os\n",
    "import requests\n",
    "from zipfile import ZipFile\n",
    "from io import BytesIO\n",
    "import sys"
   ]
  },
  {
   "cell_type": "code",
   "execution_count": 51,
   "metadata": {},
   "outputs": [],
   "source": [
    "# !pip install PyMuPDF"
   ]
  },
  {
   "cell_type": "code",
   "execution_count": 52,
   "metadata": {},
   "outputs": [],
   "source": [
    "pdf_path = \"data\\\\Datos_abiertos_historicos_etv_2022.pdf\""
   ]
  },
  {
   "cell_type": "code",
   "execution_count": 53,
   "metadata": {},
   "outputs": [],
   "source": [
    "def extract_links(pdf_path):\n",
    "    links = []\n",
    "    doc = fitz.open(pdf_path)    \n",
    "    page = doc[0]\n",
    "    for link in page.get_links():\n",
    "        links.append(\n",
    "            link['uri']\n",
    "        )\n",
    "    doc.close()\n",
    "    return links"
   ]
  },
  {
   "cell_type": "code",
   "execution_count": 54,
   "metadata": {},
   "outputs": [],
   "source": [
    "def descompresor(links):\n",
    "    carpeta = 'data\\csv-files'\n",
    "    success = 0\n",
    "    fail_download = 0\n",
    "    fail_process = 0\n",
    "    if not os.path.exists(carpeta):\n",
    "        os.makedirs(carpeta)\n",
    "    \n",
    "    ruta_bitacora = 'data\\\\bitacora.txt'\n",
    "    with open(ruta_bitacora, 'w') as log_file:\n",
    "\n",
    "        #Redirigir la salida estándar al archivo\n",
    "        sys.stdout = log_file\n",
    "        for link in links:\n",
    "            try:\n",
    "                respuesta = requests.get(link)\n",
    "                if respuesta.status_code == 200:\n",
    "                    with ZipFile(BytesIO(respuesta.content)) as archivo_zip:\n",
    "                        archivo_zip.extractall(carpeta)\n",
    "                        print(f'Archivo descomprimido desde {link} en {carpeta}')\n",
    "                        success+=1\n",
    "                else:\n",
    "                    print(f'Error al descargar {link}. Código de estado: {respuesta.status_code}')\n",
    "                    fail_download+=1\n",
    "\n",
    "            except Exception as e:\n",
    "                print(f'Error al procesar {link}: {str(e)}')\n",
    "                fail_process+=1\n",
    "        print(f\"Hubo {success} exitos, {fail_download} fallas al descargar, {fail_process} fallas al descomprimir\")\n",
    "        \n",
    "        #Restaurar la salida estándar al archivo\n",
    "        sys.stdout = sys.__stdout__\n",
    "\n",
    "        print(f\"Hubo {success} exitos, {fail_download} fallas al descargar, {fail_process} fallas al descomprimir\")\n",
    "\n",
    "    print(f'Los resultados se han guardado en {ruta_bitacora}')"
   ]
  },
  {
   "cell_type": "code",
   "execution_count": 55,
   "metadata": {},
   "outputs": [],
   "source": [
    "enlaces = extract_links(pdf_path)\n",
    "\n",
    "descompresor(enlaces)"
   ]
  }
 ],
 "metadata": {
  "kernelspec": {
   "display_name": "Python 3",
   "language": "python",
   "name": "python3"
  },
  "language_info": {
   "codemirror_mode": {
    "name": "ipython",
    "version": 3
   },
   "file_extension": ".py",
   "mimetype": "text/x-python",
   "name": "python",
   "nbconvert_exporter": "python",
   "pygments_lexer": "ipython3",
   "version": "3.11.0"
  }
 },
 "nbformat": 4,
 "nbformat_minor": 2
}
